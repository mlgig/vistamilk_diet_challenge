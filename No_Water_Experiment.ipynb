{
 "cells": [
  {
   "cell_type": "code",
   "execution_count": 89,
   "id": "f076e8d6-5e41-48fb-99b9-124247ab843b",
   "metadata": {
    "ExecuteTime": {
     "end_time": "2022-04-08T09:45:34.732680Z",
     "start_time": "2022-04-08T09:45:34.726937Z"
    }
   },
   "outputs": [],
   "source": [
    "import numpy as np\n",
    "import pandas as pd\n",
    "import math\n",
    "\n",
    "from sklearn.model_selection import train_test_split\n",
    "from sklearn.model_selection import cross_validate\n",
    "\n",
    "from sklearn.metrics import accuracy_score\n",
    "\n",
    "\n",
    "#linear models\n",
    "from sklearn.linear_model import LinearRegression, Ridge, Lasso, ElasticNet, RidgeCV, LassoCV, LogisticRegression, RidgeClassifierCV\n",
    "from sklearn.discriminant_analysis import LinearDiscriminantAnalysis\n",
    "from sklearn.ensemble import VotingClassifier,RandomForestClassifier\n",
    "\n",
    "from sktime.datatypes._panel._convert import from_2d_array_to_nested\n",
    "from sktime.transformations.panel.rocket import Rocket, MiniRocket\n",
    "from sktime.classification.feature_based import FreshPRINCE\n",
    "from sktime.classification.dictionary_based import WEASEL\n",
    "from sktime.contrib.vector_classifiers._rotation_forest import RotationForest\n",
    "from sktime.transformations.panel.tsfresh import TSFreshFeatureExtractor, TSFreshRelevantFeatureExtractor\n",
    "\n",
    "from mrsqm import MrSQMClassifier\n",
    "\n",
    "from sklearn.pipeline import Pipeline\n",
    "from sklearn.preprocessing import StandardScaler\n",
    "#from sklearn.metrics import plot_confusion_matrix\n",
    "from sklearn.metrics import confusion_matrix, ConfusionMatrixDisplay\n",
    "\n",
    "\n",
    "from sklearn.base import BaseEstimator, ClassifierMixin, TransformerMixin\n",
    "from sklearn.utils.multiclass import unique_labels\n",
    "from sklearn.utils.validation import check_is_fitted\n",
    "\n",
    "\n",
    "\n",
    "import matplotlib.pyplot as plt"
   ]
  },
  {
   "cell_type": "code",
   "execution_count": 90,
   "id": "27ec58b7-69f9-45fb-a8d3-50b9f4b15bdf",
   "metadata": {
    "ExecuteTime": {
     "end_time": "2022-04-08T09:46:15.558368Z",
     "start_time": "2022-04-08T09:45:35.190601Z"
    }
   },
   "outputs": [],
   "source": [
    "#load data\n",
    "df_dict = pd.read_excel('dataset.xlsx',sheet_name=None)\n",
    "df = df_dict[\"Training\"]"
   ]
  },
  {
   "cell_type": "code",
   "execution_count": 91,
   "id": "7a5d8166-715e-401f-ad70-a685bf2d6917",
   "metadata": {
    "ExecuteTime": {
     "end_time": "2022-04-08T09:47:20.049656Z",
     "start_time": "2022-04-08T09:47:19.607391Z"
    }
   },
   "outputs": [],
   "source": [
    "remove_outliers = True\n",
    "normalization = False\n",
    "\n",
    "tmp_df = df.copy()\n",
    "if remove_outliers:\n",
    "    tmp_df = tmp_df[tmp_df.iloc[:,1:].mean(axis=1) > 0.8]\n",
    "    \n",
    "\n",
    "\n",
    "#shuffle\n",
    "tmp_df = tmp_df.sample(frac=1,random_state=0).reset_index(drop=True)\n",
    "\n",
    "X = tmp_df.iloc[:,1:]\n",
    "Y = tmp_df[\"Diet\"]\n",
    "\n",
    "if normalization:\n",
    "    X = X.sub(X.mean(1), axis=0).div(X.std(1), axis=0)\n",
    "\n",
    "X_ts = from_2d_array_to_nested(X)"
   ]
  },
  {
   "cell_type": "code",
   "execution_count": 92,
   "id": "c95d12d1",
   "metadata": {
    "ExecuteTime": {
     "end_time": "2022-04-08T09:47:22.867858Z",
     "start_time": "2022-04-08T09:47:22.863694Z"
    }
   },
   "outputs": [
    {
     "data": {
      "text/plain": [
       "0       CLV\n",
       "1       TMR\n",
       "2       GRS\n",
       "3       GRS\n",
       "4       GRS\n",
       "       ... \n",
       "3239    CLV\n",
       "3240    TMR\n",
       "3241    CLV\n",
       "3242    CLV\n",
       "3243    TMR\n",
       "Name: Diet, Length: 3244, dtype: object"
      ]
     },
     "execution_count": 92,
     "metadata": {},
     "output_type": "execute_result"
    }
   ],
   "source": [
    "Y"
   ]
  },
  {
   "cell_type": "code",
   "execution_count": 93,
   "id": "7ccdf6f1-4336-4797-ba3b-7081b8a02af0",
   "metadata": {
    "ExecuteTime": {
     "end_time": "2022-04-08T09:47:24.506921Z",
     "start_time": "2022-04-08T09:47:24.495569Z"
    }
   },
   "outputs": [],
   "source": [
    "class RocketNormalizer(BaseEstimator, TransformerMixin):            \n",
    "            \n",
    "    def fit(self, X, y = None):        \n",
    "        self._mean = X.mean(0)\n",
    "        self._norm = np.sqrt(np.square(X - self._mean).sum(axis=0)) + 1e-8        \n",
    "        return self    \n",
    "    \n",
    "    def transform(self, X, y = None):                \n",
    "        return (X - self._mean) / self._norm\n",
    "\n",
    "class SkMrSQMClassifier(BaseEstimator, ClassifierMixin):\n",
    "\n",
    "    def __init__(self, nsax, nsfa):\n",
    "        # self.demo_param = demo_param\n",
    "        self.nsax = nsax\n",
    "        self.nsfa = nsfa\n",
    "        \n",
    "\n",
    "    def fit(self, X, y):\n",
    "        \n",
    "        self.clf = MrSQMClassifier(strat = 'RS', nsax = self.nsax, nsfa = self.nsfa, features_per_rep = 500, selection_per_rep = 2000, random_state=0)\n",
    "\n",
    "        # Check that X and y have correct shape\n",
    "        # X, y = check_X_y(X, y)\n",
    "        # Store the classes seen during fit\n",
    "        self.classes_ =  unique_labels(y)\n",
    "\n",
    "        #self.X_ = X\n",
    "        # self.y_ = y\n",
    "        # Return the classifier\n",
    "        self.clf.fit(X,y)\n",
    "        return self\n",
    "\n",
    "    def predict(self, X):\n",
    "\n",
    "        # Check is fit had been called\n",
    "        check_is_fitted(self)\n",
    "\n",
    "        # Input validation\n",
    "        # X = check_array(X)\n",
    "\n",
    "        # closest = np.argmin(euclidean_distances(X, self.X_), axis=1)\n",
    "        return self.clf.predict(X)\n",
    "\n",
    "\n",
    "\n",
    "\n",
    "\n",
    "class IntervalSelector(BaseEstimator, TransformerMixin):\n",
    "    # initializer \n",
    "    def __init__(self, start = 0, end = 10, return_timeseries = True):        \n",
    "        self.start = start\n",
    "        self.end = end\n",
    "        self.return_timeseries = return_timeseries\n",
    "            \n",
    "            \n",
    "    def fit(self, X, y = None):        \n",
    "        return self    \n",
    "    \n",
    "    def transform(self, X, y = None):             \n",
    "        if self.return_timeseries:\n",
    "            return from_2d_array_to_nested(X.iloc[:,self.start:self.end])\n",
    "        else:\n",
    "            return X.iloc[:,self.start:self.end]\n",
    "    \n",
    "class RotationForestClassifier(BaseEstimator, ClassifierMixin):    \n",
    "        \n",
    "\n",
    "    def fit(self, X, y):\n",
    "        \n",
    "        self.clf = RotationForest(random_state=42)\n",
    "\n",
    "        # Check that X and y have correct shape\n",
    "        # X, y = check_X_y(X, y)\n",
    "        # Store the classes seen during fit\n",
    "        self.classes_ =  unique_labels(y)\n",
    "\n",
    "        #self.X_ = X\n",
    "        # self.y_ = y\n",
    "        # Return the classifier\n",
    "        self.clf.fit(X,y)\n",
    "        return self\n",
    "\n",
    "    def predict(self, X):\n",
    "\n",
    "        # Check is fit had been called\n",
    "        check_is_fitted(self)\n",
    "\n",
    "        # Input validation\n",
    "        # X = check_array(X)\n",
    "\n",
    "        # closest = np.argmin(euclidean_distances(X, self.X_), axis=1)\n",
    "        return self.clf.predict(X)\n",
    "    \n",
    "\n"
   ]
  },
  {
   "cell_type": "code",
   "execution_count": 94,
   "id": "ef44cacd",
   "metadata": {
    "ExecuteTime": {
     "end_time": "2022-04-08T09:47:26.954276Z",
     "start_time": "2022-04-08T09:47:26.944397Z"
    }
   },
   "outputs": [],
   "source": [
    "def rocket_clf(start = 0, end = 1060, verbose=True):\n",
    "    return Pipeline(\n",
    "            [    \n",
    "            ('interval', IntervalSelector(start = start, end = end, return_timeseries = True)),\n",
    "            ('rocket', Rocket(random_state=0,normalise=True)),\n",
    "            ('normalizer', RocketNormalizer()),\n",
    "            ('model', RidgeClassifierCV(alphas=np.logspace(-3, 3, 10)))           \n",
    "            ],\n",
    "            verbose=verbose,\n",
    "        )\n",
    "\n",
    "def minirocket_clf(start = 0, end = 1060, verbose=True):\n",
    "    return Pipeline(\n",
    "            [\n",
    "            ('interval', IntervalSelector(start = start, end = end, return_timeseries = True)),\n",
    "            ('minirocket', MiniRocket(random_state=0)),\n",
    "            ('normalizer', RocketNormalizer()),\n",
    "            ('model', RidgeClassifierCV(alphas=np.logspace(-3, 3, 10)))           \n",
    "            ],\n",
    "            verbose=verbose,\n",
    "        )\n",
    "def freshprince_clf(start = 0, end = 1060, fc_pars = \"minimal\",verbose=True):\n",
    "    return Pipeline(\n",
    "        [\n",
    "            ('interval', IntervalSelector(start = start, end = end, return_timeseries = True)),\n",
    "            ('tsfresh', TSFreshFeatureExtractor(default_fc_parameters=fc_pars, show_warnings=False, disable_progressbar=True)),\n",
    "            ('rotationforest', RotationForestClassifier())\n",
    "        ],\n",
    "        verbose=verbose,\n",
    "    )\n",
    "\n",
    "def freshprince_fs_clf(start = 0, end = 1060, fc_pars = \"efficient\",verbose=True):\n",
    "    return Pipeline(\n",
    "        [\n",
    "            ('interval', IntervalSelector(start = start, end = end, return_timeseries = True)),\n",
    "            ('tsfresh', TSFreshRelevantFeatureExtractor(default_fc_parameters=fc_pars, show_warnings=False, ml_task=\"classification\")),\n",
    "            ('rotationforest', RotationForestClassifier())\n",
    "        ],\n",
    "        verbose=verbose,\n",
    "    )\n",
    "\n",
    "def mrsqm_clf(nsax = 0, nsfa = 9, start = 0, end = 1060, verbose=True):\n",
    "    return Pipeline(\n",
    "        [\n",
    "            ('interval', IntervalSelector(start = start, end = end, return_timeseries = True)),\n",
    "            ('mrsqm', SkMrSQMClassifier(nsax = nsax, nsfa = nsfa)),\n",
    "            \n",
    "        ],\n",
    "        verbose=verbose,\n",
    "    )\n",
    "\n",
    "def ridgecv_clf(start = 0, end = 1060, verbose=True):\n",
    "    return Pipeline(\n",
    "        [\n",
    "            ('interval', IntervalSelector(start = start, end = end, return_timeseries = False)),\n",
    "            ('ridgecv', RidgeClassifierCV(alphas=np.logspace(-3, 3, 10))),\n",
    "            \n",
    "        ],\n",
    "        verbose=verbose,\n",
    "    )\n",
    "\n",
    "def lda_clf(start = 0, end = 1060, verbose=True):\n",
    "    return Pipeline(\n",
    "        [\n",
    "            ('interval', IntervalSelector(start = start, end = end, return_timeseries = False)),\n",
    "            ('lda', LinearDiscriminantAnalysis()),\n",
    "            \n",
    "        ],\n",
    "        verbose=verbose,\n",
    "    )\n",
    "\n",
    "def exp_single_clf(clf, X_train, X_test, y_train, y_test):    \n",
    "    clf.fit(X_train,y_train)\n",
    "    y_pred = clf.predict(X_test)\n",
    "    return accuracy_score(y_test, y_pred)\n",
    "\n",
    "\n",
    "def exp_multiple_classifiers(clfs, X_train, X_test, y_train, y_test):\n",
    "    results = dict.fromkeys(clfs.keys(),0)\n",
    "    \n",
    "    for c in clfs:\n",
    "        results[c] = exp_single_clf(clfs[c], X_train, X_test, y_train, y_test)\n",
    "    \n",
    "    return results"
   ]
  },
  {
   "cell_type": "markdown",
   "id": "9f061b57",
   "metadata": {},
   "source": [
    "## Test individual classifiers"
   ]
  },
  {
   "cell_type": "markdown",
   "id": "9e31d115",
   "metadata": {},
   "source": [
    "### Time Series Classifiers"
   ]
  },
  {
   "cell_type": "code",
   "execution_count": 57,
   "id": "7dcb48c8",
   "metadata": {
    "ExecuteTime": {
     "end_time": "2022-04-03T21:29:12.660787Z",
     "start_time": "2022-04-03T21:00:46.577325Z"
    }
   },
   "outputs": [
    {
     "name": "stdout",
     "output_type": "stream",
     "text": [
      "----------------------\n",
      "Interval: 0 - 172\n",
      "----------------------\n",
      "Minirocket : 0.7212614445574771\n",
      "MrSQM 9xsfa : 0.6836215666327569\n"
     ]
    },
    {
     "name": "stderr",
     "output_type": "stream",
     "text": [
      "Feature Extraction: 100%|███████████████████| 2292/2292 [01:48<00:00, 21.11it/s]\n",
      "Feature Extraction: 100%|█████████████████████| 983/983 [00:45<00:00, 21.38it/s]\n"
     ]
    },
    {
     "name": "stdout",
     "output_type": "stream",
     "text": [
      "FreshPrince-effecient : 0.7029501525940997\n",
      "RidgeCV : 0.6826042726347915\n",
      "----------------------\n",
      "Interval: 205 - 306\n",
      "----------------------\n",
      "Minirocket : 0.5228891149542217\n",
      "MrSQM 9xsfa : 0.4649033570701933\n"
     ]
    },
    {
     "name": "stderr",
     "output_type": "stream",
     "text": [
      "Feature Extraction: 100%|███████████████████| 2292/2292 [01:38<00:00, 23.26it/s]\n",
      "Feature Extraction: 100%|█████████████████████| 983/983 [00:42<00:00, 22.99it/s]\n"
     ]
    },
    {
     "name": "stdout",
     "output_type": "stream",
     "text": [
      "FreshPrince-effecient : 0.5361139369277721\n",
      "RidgeCV : 0.5157680569684638\n",
      "----------------------\n",
      "Interval: 728 - 748\n",
      "----------------------\n",
      "Minirocket : 0.3570701932858596\n",
      "MrSQM 9xsfa : 0.32553407934893186\n"
     ]
    },
    {
     "name": "stderr",
     "output_type": "stream",
     "text": [
      "Feature Extraction: 100%|███████████████████| 2292/2292 [01:22<00:00, 27.87it/s]\n",
      "Feature Extraction: 100%|█████████████████████| 983/983 [00:36<00:00, 27.11it/s]\n"
     ]
    },
    {
     "name": "stdout",
     "output_type": "stream",
     "text": [
      "FreshPrince-effecient : 0.3713123092573754\n",
      "RidgeCV : 0.3560528992878942\n"
     ]
    }
   ],
   "source": [
    "X_train, X_test, y_train, y_test = train_test_split(X, Y, test_size=0.3, random_state=0)\n",
    "\n",
    "intervals = [(0,172),(205,306),(728,748)]\n",
    "results = {}\n",
    "\n",
    "for itv_start, itv_end in intervals:\n",
    "    print('----------------------')\n",
    "    print(f'Interval: {itv_start} - {itv_end}')\n",
    "    print('----------------------')\n",
    "    #chopper = IntervalSelector(itv_start,itv_end)\n",
    "    #X_train_itv = chopper.transform(X_train)\n",
    "    #X_test_itv = chopper.transform(X_test)\n",
    "    \n",
    "    clfs = {\"Minirocket\":minirocket_clf(start=itv_start, end=itv_end,verbose=False),\n",
    "            \"MrSQM 9xsfa\": mrsqm_clf(nsax = 0, nsfa = 9,start=itv_start, end=itv_end,verbose=False),\n",
    "            \"FreshPrince-effecient\":freshprince_clf(start=itv_start, end=itv_end,fc_pars=\"efficient\",verbose=False),\n",
    "            #\"RidgeCV\":ridgecv_clf(start=itv_start, end=itv_end,verbose=False)\n",
    "           }\n",
    "    \n",
    "    for clf in clfs:\n",
    "        acc = exp_single_clf(clfs[clf], X_train, X_test, y_train, y_test)\n",
    "        print(f'{clf} : {acc}')\n",
    "    \n",
    "\n",
    "\n",
    "# for clf_name, clf in clf_grp:\n",
    "#     results[clf_name] = exp_single_clf(clf, X_train, X_test, y_train, y_test)"
   ]
  },
  {
   "cell_type": "markdown",
   "id": "dd43696c",
   "metadata": {},
   "source": [
    "### Tabular classifiers with whole time series\n"
   ]
  },
  {
   "cell_type": "code",
   "execution_count": 74,
   "id": "537533af",
   "metadata": {
    "ExecuteTime": {
     "end_time": "2022-04-04T09:30:05.755975Z",
     "start_time": "2022-04-04T09:29:54.993648Z"
    }
   },
   "outputs": [
    {
     "name": "stdout",
     "output_type": "stream",
     "text": [
      "RidgeCV : 0.7355035605289929\n"
     ]
    },
    {
     "name": "stderr",
     "output_type": "stream",
     "text": [
      "/home/thalng/anaconda3/envs/vistamilk/lib/python3.7/site-packages/sklearn/linear_model/_logistic.py:818: ConvergenceWarning: lbfgs failed to converge (status=1):\n",
      "STOP: TOTAL NO. of ITERATIONS REACHED LIMIT.\n",
      "\n",
      "Increase the number of iterations (max_iter) or scale the data as shown in:\n",
      "    https://scikit-learn.org/stable/modules/preprocessing.html\n",
      "Please also refer to the documentation for alternative solver options:\n",
      "    https://scikit-learn.org/stable/modules/linear_model.html#logistic-regression\n",
      "  extra_warning_msg=_LOGISTIC_SOLVER_CONVERGENCE_MSG,\n"
     ]
    },
    {
     "name": "stdout",
     "output_type": "stream",
     "text": [
      "LogisticRegression : 0.4486266531027467\n",
      "RandomForest : 0.5289928789420142\n",
      "LDA : 0.7385554425228891\n"
     ]
    }
   ],
   "source": [
    "clfs = {           \n",
    "            \"RidgeCV\":RidgeClassifierCV(alphas=np.logspace(-3, 3, 10)),\n",
    "            \"LogisticRegression\":LogisticRegression(max_iter = 1000),\n",
    "            \"RandomForest\":RandomForestClassifier(),\n",
    "            \"LDA\":LinearDiscriminantAnalysis()\n",
    "           }\n",
    "    \n",
    "for clf in clfs:\n",
    "    acc = exp_single_clf(clfs[clf], X_train, X_test, y_train, y_test)\n",
    "    print(f'{clf} : {acc}')"
   ]
  },
  {
   "cell_type": "markdown",
   "id": "975e3669",
   "metadata": {},
   "source": [
    "### Tabular classifiers with each interval"
   ]
  },
  {
   "cell_type": "code",
   "execution_count": 63,
   "id": "c63701eb",
   "metadata": {
    "ExecuteTime": {
     "end_time": "2022-04-03T21:32:57.536604Z",
     "start_time": "2022-04-03T21:32:52.875930Z"
    }
   },
   "outputs": [
    {
     "name": "stdout",
     "output_type": "stream",
     "text": [
      "----------------------\n",
      "Interval: 0 - 172\n",
      "----------------------\n",
      "RidgeCV : 0.6826042726347915\n",
      "LogisticRegression : 0.4516785350966429\n",
      "RandomForest : 0.5381485249237029\n",
      "LDA : 0.698880976602238\n",
      "----------------------\n",
      "Interval: 205 - 306\n",
      "----------------------\n",
      "RidgeCV : 0.5157680569684638\n",
      "LogisticRegression : 0.37639877924720244\n",
      "RandomForest : 0.41912512716174977\n",
      "LDA : 0.5483214649033571\n",
      "----------------------\n",
      "Interval: 728 - 748\n",
      "----------------------\n",
      "RidgeCV : 0.3560528992878942\n",
      "LogisticRegression : 0.3326551373346897\n",
      "RandomForest : 0.36927772126144454\n",
      "LDA : 0.35096642929806715\n"
     ]
    }
   ],
   "source": [
    "intervals = [(0,172),(205,306),(728,748)]\n",
    "results = {}\n",
    "\n",
    "for itv_start, itv_end in intervals:\n",
    "    print('----------------------')\n",
    "    print(f'Interval: {itv_start} - {itv_end}')\n",
    "    print('----------------------')\n",
    "    chopper = IntervalSelector(itv_start,itv_end,return_timeseries = False)\n",
    "    X_train_itv = chopper.transform(X_train)\n",
    "    X_test_itv = chopper.transform(X_test)\n",
    "    \n",
    "    clfs = {           \n",
    "            \"RidgeCV\":RidgeClassifierCV(alphas=np.logspace(-3, 3, 10)),\n",
    "            \"LogisticRegression\":LogisticRegression(max_iter = 1000),\n",
    "            \"RandomForest\":RandomForestClassifier(),\n",
    "            \"LDA\":LinearDiscriminantAnalysis()\n",
    "           }\n",
    "    \n",
    "    for clf in clfs:\n",
    "        acc = exp_single_clf(clfs[clf], X_train_itv, X_test_itv, y_train, y_test)\n",
    "        print(f'{clf} : {acc}')"
   ]
  },
  {
   "cell_type": "code",
   "execution_count": 76,
   "id": "c6e77240",
   "metadata": {
    "ExecuteTime": {
     "end_time": "2022-04-04T09:50:36.685990Z",
     "start_time": "2022-04-04T09:50:33.815732Z"
    }
   },
   "outputs": [
    {
     "name": "stdout",
     "output_type": "stream",
     "text": [
      "RidgeCV : 0.71617497456765\n",
      "LogisticRegression : 0.4526958290946083\n",
      "RandomForest : 0.5473041709053916\n",
      "LDA : 0.745676500508647\n"
     ]
    }
   ],
   "source": [
    "X_train_no_water = X_train.iloc[:, np.r_[0:172, 205:306, 728:748]]\n",
    "X_test_no_water = X_test.iloc[:, np.r_[0:172, 205:306, 728:748]]\n",
    "clfs = {           \n",
    "            \"RidgeCV\":RidgeClassifierCV(alphas=np.logspace(-3, 3, 10)),\n",
    "            \"LogisticRegression\":LogisticRegression(max_iter = 1000),\n",
    "            \"RandomForest\":RandomForestClassifier(),\n",
    "            \"LDA\":LinearDiscriminantAnalysis()\n",
    "           }\n",
    "    \n",
    "for clf in clfs:\n",
    "    acc = exp_single_clf(clfs[clf], X_train_no_water, X_test_no_water, y_train, y_test)\n",
    "    print(f'{clf} : {acc}')"
   ]
  },
  {
   "cell_type": "code",
   "execution_count": 73,
   "id": "b6174d04",
   "metadata": {
    "ExecuteTime": {
     "end_time": "2022-04-04T09:21:42.268937Z",
     "start_time": "2022-04-04T09:11:24.447811Z"
    }
   },
   "outputs": [
    {
     "name": "stdout",
     "output_type": "stream",
     "text": [
      "Accuracy: 0.7609359104781281\n"
     ]
    },
    {
     "data": {
      "image/png": "[encoded data removed]",
      "text/plain": [
       "<Figure size 432x288 with 2 Axes>"
      ]
     },
     "metadata": {
      "needs_background": "light"
     },
     "output_type": "display_data"
    }
   ],
   "source": [
    "estimators = [ (\"mnrk_itv1\",minirocket_clf(start=0, end=172,verbose=False)),\n",
    "           (\"mrsqm_itv1\",mrsqm_clf(nsax = 0, nsfa = 9,start=0, end=172,verbose=False)),\n",
    "           (\"freshprince_itv1\",freshprince_clf(start=0, end=172,fc_pars=\"efficient\",verbose=False)),\n",
    "           (\"RidgeCV_itv1\",ridgecv_clf(start=0, end=172,verbose=False)),\n",
    "             (\"LDA_itv1\",lda_clf(start=0, end=172,verbose=False)), \n",
    "          ]\n",
    "\n",
    "clf = VotingClassifier(estimators = estimators)\n",
    "clf.fit(X_train,y_train)\n",
    "y_pred = clf.predict(X_test)\n",
    "print(f'Accuracy: {accuracy_score(y_test, y_pred)}')\n",
    "\n",
    "cm = confusion_matrix(y_test, y_pred, labels=clf.classes_)\n",
    "disp = ConfusionMatrixDisplay(confusion_matrix=cm,\n",
    "                               display_labels=clf.classes_)\n",
    "disp.plot()\n",
    "plt.show()"
   ]
  },
  {
   "cell_type": "code",
   "execution_count": 87,
   "id": "060c4e3a",
   "metadata": {
    "ExecuteTime": {
     "end_time": "2022-04-04T14:40:40.430957Z",
     "start_time": "2022-04-04T14:36:51.398499Z"
    }
   },
   "outputs": [
    {
     "name": "stdout",
     "output_type": "stream",
     "text": [
      "Accuracy: 0.7293997965412004\n"
     ]
    },
    {
     "data": {
      "image/png": "[encoded data removed]",
      "text/plain": [
       "<Figure size 432x288 with 2 Axes>"
      ]
     },
     "metadata": {
      "needs_background": "light"
     },
     "output_type": "display_data"
    }
   ],
   "source": [
    "estimators = [ (\"mnrk_itv1\",minirocket_clf(start=0, end=172,verbose=False)),\n",
    "           (\"mrsqm_itv1\",mrsqm_clf(nsax = 0, nsfa = 9,start=0, end=172,verbose=False)),\n",
    "           #(\"freshprince_itv1\",freshprince_clf(start=0, end=172,fc_pars=\"efficient\",verbose=False)),\n",
    "           (\"RidgeCV_itv1\",ridgecv_clf(start=0, end=172,verbose=False)),\n",
    "             (\"LDA_itv1\",lda_clf(start=0, end=172,verbose=False)), \n",
    "          ]\n",
    "\n",
    "clf = VotingClassifier(estimators = estimators)\n",
    "clf.fit(X_train,y_train)\n",
    "y_pred = clf.predict(X_test)\n",
    "print(f'Accuracy: {accuracy_score(y_test, y_pred)}')\n",
    "\n",
    "cm = confusion_matrix(y_test, y_pred, labels=clf.classes_)\n",
    "disp = ConfusionMatrixDisplay(confusion_matrix=cm,\n",
    "                               display_labels=clf.classes_)\n",
    "disp.plot()\n",
    "plt.show()"
   ]
  },
  {
   "cell_type": "code",
   "execution_count": 85,
   "id": "3163ce8f",
   "metadata": {
    "ExecuteTime": {
     "end_time": "2022-04-04T13:32:05.005709Z",
     "start_time": "2022-04-04T13:11:50.931494Z"
    }
   },
   "outputs": [
    {
     "name": "stdout",
     "output_type": "stream",
     "text": [
      "Accuracy: 0.7497456765005086\n"
     ]
    },
    {
     "data": {
      "image/png": "[encoded data removed]",
      "text/plain": [
       "<Figure size 432x288 with 2 Axes>"
      ]
     },
     "metadata": {
      "needs_background": "light"
     },
     "output_type": "display_data"
    }
   ],
   "source": [
    "estimators = [ (\"mnrk_itv1\",minirocket_clf(start=0, end=172,verbose=False)),\n",
    "           (\"mrsqm_itv1\",mrsqm_clf(nsax = 0, nsfa = 9,start=0, end=172,verbose=False)),\n",
    "           (\"freshprince_itv1\",freshprince_clf(start=0, end=172,fc_pars=\"efficient\",verbose=False)),\n",
    "           (\"RidgeCV_itv1\",ridgecv_clf(start=0, end=172,verbose=False)),\n",
    "             (\"LDA_itv1\",lda_clf(start=0, end=172,verbose=False)), \n",
    "            (\"mnrk_itv2\",minirocket_clf(start=205, end=306,verbose=False)),\n",
    "           (\"mrsqm_itv2\",mrsqm_clf(nsax = 0, nsfa = 9,start=205, end=306,verbose=False)),\n",
    "           (\"freshprince_itv2\",freshprince_clf(start=205, end=306,fc_pars=\"efficient\",verbose=False)),\n",
    "           (\"RidgeCV_itv2\",ridgecv_clf(start=205, end=306,verbose=False)),\n",
    "             (\"LDA_itv2\",lda_clf(start=205, end=306,verbose=False)), \n",
    "          ]\n",
    "\n",
    "clf = VotingClassifier(estimators = estimators)\n",
    "clf.fit(X_train,y_train)\n",
    "y_pred = clf.predict(X_test)\n",
    "print(f'Accuracy: {accuracy_score(y_test, y_pred)}')\n",
    "\n",
    "cm = confusion_matrix(y_test, y_pred, labels=clf.classes_)\n",
    "disp = ConfusionMatrixDisplay(confusion_matrix=cm,\n",
    "                               display_labels=clf.classes_)\n",
    "disp.plot()\n",
    "plt.show()"
   ]
  },
  {
   "cell_type": "code",
   "execution_count": 84,
   "id": "7775e855",
   "metadata": {
    "ExecuteTime": {
     "end_time": "2022-04-04T11:05:03.828896Z",
     "start_time": "2022-04-04T10:44:49.849988Z"
    }
   },
   "outputs": [
    {
     "name": "stdout",
     "output_type": "stream",
     "text": [
      "Accuracy: 0.7517802644964394\n"
     ]
    },
    {
     "data": {
      "image/png": "[encoded data removed]",
      "text/plain": [
       "<Figure size 432x288 with 2 Axes>"
      ]
     },
     "metadata": {
      "needs_background": "light"
     },
     "output_type": "display_data"
    }
   ],
   "source": [
    "estimators = [ (\"mnrk_itv1\",minirocket_clf(start=0, end=172,verbose=False)),\n",
    "           (\"mrsqm_itv1\",mrsqm_clf(nsax = 0, nsfa = 9,start=0, end=172,verbose=False)),\n",
    "           (\"freshprince_itv1\",freshprince_clf(start=0, end=172,fc_pars=\"efficient\",verbose=False)),\n",
    "           (\"RidgeCV_itv1\",ridgecv_clf(start=0, end=172,verbose=False)),\n",
    "             (\"LDA_itv1\",lda_clf(start=0, end=172,verbose=False)), \n",
    "            (\"mnrk_itv2\",minirocket_clf(start=205, end=306,verbose=False)),\n",
    "           (\"mrsqm_itv2\",mrsqm_clf(nsax = 0, nsfa = 9,start=205, end=306,verbose=False)),\n",
    "           (\"freshprince_itv2\",freshprince_clf(start=205, end=306,fc_pars=\"efficient\",verbose=False)),\n",
    "           (\"RidgeCV_itv2\",ridgecv_clf(start=205, end=306,verbose=False)),\n",
    "             (\"LDA_itv2\",lda_clf(start=205, end=306,verbose=False)), \n",
    "          ]\n",
    "\n",
    "weights = [2,2,2,2,2,1,1,1,1,1]\n",
    "\n",
    "clf = VotingClassifier(estimators = estimators, weights=weights)\n",
    "clf.fit(X_train,y_train)\n",
    "y_pred = clf.predict(X_test)\n",
    "print(f'Accuracy: {accuracy_score(y_test, y_pred)}')\n",
    "\n",
    "cm = confusion_matrix(y_test, y_pred, labels=clf.classes_)\n",
    "disp = ConfusionMatrixDisplay(confusion_matrix=cm,\n",
    "                               display_labels=clf.classes_)\n",
    "disp.plot()\n",
    "plt.show()"
   ]
  },
  {
   "cell_type": "code",
   "execution_count": 80,
   "id": "cb98d2e2",
   "metadata": {
    "ExecuteTime": {
     "end_time": "2022-04-04T10:43:49.115718Z",
     "start_time": "2022-04-04T10:43:48.689249Z"
    }
   },
   "outputs": [
    {
     "name": "stdout",
     "output_type": "stream",
     "text": [
      "Accuracy: 0.6510681586978637\n"
     ]
    },
    {
     "data": {
      "image/png": "[encoded data removed]",
      "text/plain": [
       "<Figure size 432x288 with 2 Axes>"
      ]
     },
     "metadata": {
      "needs_background": "light"
     },
     "output_type": "display_data"
    }
   ],
   "source": [
    "estimators = [ (\"RidgeCV_itv1\",ridgecv_clf(start=0, end=172,verbose=False)),\n",
    "             (\"LDA_itv1\",lda_clf(start=0, end=172,verbose=False)),             \n",
    "           (\"RidgeCV_itv2\",ridgecv_clf(start=205, end=306,verbose=False)),\n",
    "             (\"LDA_itv2\",lda_clf(start=205, end=306,verbose=False)),          \n",
    "          ]\n",
    "\n",
    "#weights = [2,2,2,2,2,1,1,1,1,1]\n",
    "\n",
    "clf = VotingClassifier(estimators = estimators)\n",
    "clf.fit(X_train,y_train)\n",
    "y_pred = clf.predict(X_test)\n",
    "print(f'Accuracy: {accuracy_score(y_test, y_pred)}')\n",
    "\n",
    "cm = confusion_matrix(y_test, y_pred, labels=clf.classes_)\n",
    "disp = ConfusionMatrixDisplay(confusion_matrix=cm,\n",
    "                               display_labels=clf.classes_)\n",
    "disp.plot()\n",
    "plt.show()"
   ]
  },
  {
   "cell_type": "code",
   "execution_count": 83,
   "id": "15a1b139",
   "metadata": {
    "ExecuteTime": {
     "end_time": "2022-04-04T10:44:45.960623Z",
     "start_time": "2022-04-04T10:44:45.559226Z"
    }
   },
   "outputs": [
    {
     "name": "stdout",
     "output_type": "stream",
     "text": [
      "Accuracy: 0.71617497456765\n"
     ]
    },
    {
     "data": {
      "image/png": "[encoded data removed]",
      "text/plain": [
       "<Figure size 432x288 with 2 Axes>"
      ]
     },
     "metadata": {
      "needs_background": "light"
     },
     "output_type": "display_data"
    }
   ],
   "source": [
    "estimators = [ (\"RidgeCV_itv1\",ridgecv_clf(start=0, end=172,verbose=False)),\n",
    "             (\"LDA_itv1\",lda_clf(start=0, end=172,verbose=False)),             \n",
    "           (\"RidgeCV_itv2\",ridgecv_clf(start=205, end=306,verbose=False)),\n",
    "             (\"LDA_itv2\",lda_clf(start=205, end=306,verbose=False)),          \n",
    "          ]\n",
    "\n",
    "weights = [2,2,1,1]\n",
    "\n",
    "clf = VotingClassifier(estimators = estimators, weights = weights)\n",
    "clf.fit(X_train,y_train)\n",
    "y_pred = clf.predict(X_test)\n",
    "print(f'Accuracy: {accuracy_score(y_test, y_pred)}')\n",
    "\n",
    "cm = confusion_matrix(y_test, y_pred, labels=clf.classes_)\n",
    "disp = ConfusionMatrixDisplay(confusion_matrix=cm,\n",
    "                               display_labels=clf.classes_)\n",
    "disp.plot()\n",
    "plt.show()"
   ]
  },
  {
   "cell_type": "code",
   "execution_count": null,
   "id": "0de57ec7",
   "metadata": {},
   "outputs": [],
   "source": []
  }
 ],
 "metadata": {
  "kernelspec": {
   "display_name": "Python 3 (ipykernel)",
   "language": "python",
   "name": "python3"
  },
  "language_info": {
   "codemirror_mode": {
    "name": "ipython",
    "version": 3
   },
   "file_extension": ".py",
   "mimetype": "text/x-python",
   "name": "python",
   "nbconvert_exporter": "python",
   "pygments_lexer": "ipython3",
   "version": "3.7.11"
  }
 },
 "nbformat": 4,
 "nbformat_minor": 5
}
